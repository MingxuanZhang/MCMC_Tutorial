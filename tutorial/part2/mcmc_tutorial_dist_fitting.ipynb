{
 "cells": [
  {
   "cell_type": "code",
   "execution_count": null,
   "metadata": {
    "ExecuteTime": {
     "start_time": "2018-06-19T12:36:47.527Z"
    }
   },
   "outputs": [],
   "source": [
    "import pandas as pd\n",
    "import numpy as np\n",
    "import scipy.stats as stats\n",
    "import sys\n",
    "from multiprocessing import Pool\n",
    "import matplotlib.pyplot as plt\n",
    "%matplotlib inline"
   ]
  },
  {
   "cell_type": "code",
   "execution_count": null,
   "metadata": {
    "ExecuteTime": {
     "start_time": "2018-06-19T12:36:47.534Z"
    }
   },
   "outputs": [],
   "source": [
    "dfSL = pd.read_csv('Galveston.csv', header=None)\n",
    "dfSL.rename(columns={0:'year',1:'month', 2:'day', 3:'hour', 4: 'sealevel'}, inplace=True)\n",
    "fill_in = dfSL.loc[dfSL['sealevel']<-5000].median()[4]\n",
    "dfSL['sealevel'].plot()\n",
    "plt.show()"
   ]
  },
  {
   "cell_type": "code",
   "execution_count": null,
   "metadata": {
    "ExecuteTime": {
     "start_time": "2018-06-19T12:36:47.540Z"
    }
   },
   "outputs": [],
   "source": [
    "dfSL['sealevel'].replace(fill_in, np.nan, inplace=True)\n",
    "dfSL.dropna(inplace=True)\n",
    "dfSL['sealevel'].plot()\n",
    "plt.show()"
   ]
  },
  {
   "cell_type": "code",
   "execution_count": null,
   "metadata": {
    "ExecuteTime": {
     "start_time": "2018-06-19T12:36:47.547Z"
    }
   },
   "outputs": [],
   "source": [
    "n_hours = 365*24\n",
    "sl_year = {}\n",
    "for index, row in dfSL.iterrows():\n",
    "    year = row['year']\n",
    "    sl = row['sealevel']\n",
    "    if year in sl_year:\n",
    "        sl_year[year].append(sl)\n",
    "    else:\n",
    "        sl_year[year] = []\n",
    "        sl_year[year].append(sl)\n",
    "        \n",
    "gev = {}\n",
    "for year, sealevel in sl_year.items():\n",
    "    if len(sealevel)/n_hours >= 0.9:\n",
    "        gev[year] = max(np.array(sealevel)-np.mean(sealevel))"
   ]
  },
  {
   "cell_type": "code",
   "execution_count": null,
   "metadata": {
    "ExecuteTime": {
     "start_time": "2018-06-19T12:36:47.552Z"
    }
   },
   "outputs": [],
   "source": [
    "plt.hist(list(gev.values()), edgecolor=\"white\")\n",
    "plt.show()"
   ]
  }
 ],
 "metadata": {
  "kernelspec": {
   "display_name": "Python 3",
   "language": "python",
   "name": "python3"
  },
  "language_info": {
   "codemirror_mode": {
    "name": "ipython",
    "version": 3
   },
   "file_extension": ".py",
   "mimetype": "text/x-python",
   "name": "python",
   "nbconvert_exporter": "python",
   "pygments_lexer": "ipython3",
   "version": "3.6.3"
  }
 },
 "nbformat": 4,
 "nbformat_minor": 2
}
