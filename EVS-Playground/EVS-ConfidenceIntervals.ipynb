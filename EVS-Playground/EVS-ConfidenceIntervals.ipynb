{
 "cells": [
  {
   "cell_type": "markdown",
   "metadata": {},
   "source": [
    "## 1. Lets start by firing up the required libraries"
   ]
  },
  {
   "cell_type": "code",
   "execution_count": 1,
   "metadata": {
    "collapsed": true
   },
   "outputs": [],
   "source": [
    "import pandas as pd\n",
    "import numpy as np\n",
    "import matplotlib.pylab as plt\n",
    "from matplotlib.legend_handler import HandlerLine2D\n",
    "import lmoments\n",
    "\n",
    "%matplotlib inline\n",
    "from matplotlib.pylab import rcParams\n",
    "rcParams['figure.figsize'] = 15, 6"
   ]
  },
  {
   "cell_type": "markdown",
   "metadata": {},
   "source": [
    "## 2. Load data"
   ]
  },
  {
   "cell_type": "code",
   "execution_count": 2,
   "metadata": {
    "scrolled": true
   },
   "outputs": [],
   "source": [
    "data = pd.read_csv('fortprec.txt', sep ='\\t')\n",
    "df = data.groupby(\"year\").Prec.max()"
   ]
  },
  {
   "cell_type": "markdown",
   "metadata": {},
   "source": [
    "## 3. Fit GEV distribution (the best one)"
   ]
  },
  {
   "cell_type": "code",
   "execution_count": 3,
   "metadata": {},
   "outputs": [
    {
     "data": {
      "text/plain": [
       "[1.3536800222811287, 0.55683475793448467, -0.13012477387318533]"
      ]
     },
     "execution_count": 3,
     "metadata": {},
     "output_type": "execute_result"
    }
   ],
   "source": [
    "LMU    = lmoments.samlmu(df)\n",
    "gevfit = lmoments.pelgev(LMU)\n",
    "\n",
    "gevfit"
   ]
  },
  {
   "cell_type": "markdown",
   "metadata": {},
   "source": [
    "## 4. Bootstrap confidence intervals\n",
    "\n",
    "The calculations used a percentile interval method. The underlying idea is to \n",
    "* sample the orignal data as many as possible;\n",
    "* carry out extreme value analysis on these sampled samples;\n",
    "* do statistics such as means and percentiles.\n",
    "\n",
    "All the code in this section has been adapted and simplified from that on \n",
    "* https://github.com/cgevans/scikits-bootstrap.\n",
    "* https://github.com/kikocorreoso/scikit-extremes/blob/master/skextremes\n",
    "\n",
    "All the credits shall go to them and you can find more information within each function."
   ]
  },
  {
   "cell_type": "code",
   "execution_count": 4,
   "metadata": {
    "collapsed": true
   },
   "outputs": [],
   "source": [
    "import warnings as _warnings\n",
    "from collections import OrderedDict\n",
    "from numpy.random import randint as _randint\n",
    "\n",
    "class InstabilityWarning(UserWarning):\n",
    "    \"\"\"Issued when results may be unstable.\"\"\"\n",
    "    pass"
   ]
  },
  {
   "cell_type": "markdown",
   "metadata": {},
   "source": [
    "On import, make sure that InstabilityWarnings are not filtered out."
   ]
  },
  {
   "cell_type": "code",
   "execution_count": 5,
   "metadata": {
    "collapsed": true
   },
   "outputs": [],
   "source": [
    "_warnings.simplefilter('always', InstabilityWarning)\n",
    "_warnings.simplefilter('always', UserWarning)"
   ]
  },
  {
   "cell_type": "markdown",
   "metadata": {},
   "source": [
    "The bootstrap_ci is the worker to carry out a series of tasks:\n",
    "* sampling\n",
    "* fitting gev distribution agaist samples\n",
    "* do statistics"
   ]
  },
  {
   "cell_type": "code",
   "execution_count": 6,
   "metadata": {},
   "outputs": [],
   "source": [
    "def bootstrap_ci(data, statfunction=np.average, alpha = 0.05, \n",
    "                 n_samples = 100):\n",
    "    \"\"\"\n",
    "    Given a set of data ``data``, and a statistics function ``statfunction`` that\n",
    "    applies to that data, computes the bootstrap confidence interval for\n",
    "    ``statfunction`` on that data. Data points are assumed to be delineated by\n",
    "    axis 0.\n",
    "    \n",
    "    This function has been derived and simplified from scikits-bootstrap \n",
    "    package created by cgevans (https://github.com/cgevans/scikits-bootstrap).\n",
    "    All the credits shall go to him.\n",
    "    **Parameters**\n",
    "    \n",
    "    data : array_like, shape (N, ...) OR tuple of array_like all with shape (N, ...)\n",
    "        Input data. Data points are assumed to be delineated by axis 0. Beyond this,\n",
    "        the shape doesn't matter, so long as ``statfunction`` can be applied to the\n",
    "        array. If a tuple of array_likes is passed, then samples from each array (along\n",
    "        axis 0) are passed in order as separate parameters to the statfunction. The\n",
    "        type of data (single array or tuple of arrays) can be explicitly specified\n",
    "        by the multi parameter.\n",
    "    statfunction : function (data, weights = (weights, optional)) -> value\n",
    "        This function should accept samples of data from ``data``. It is applied\n",
    "        to these samples individually. \n",
    "    alpha : float, optional\n",
    "        The percentiles to use for the confidence interval (default=0.05). The \n",
    "        returned values are (alpha/2, 1-alpha/2) percentile confidence\n",
    "        intervals. \n",
    "    n_samples : int or float, optional\n",
    "        The number of bootstrap samples to use (default=100)\n",
    "        \n",
    "    **Returns**\n",
    "    \n",
    "    confidences : tuple of floats\n",
    "        The confidence percentiles specified by alpha\n",
    "    **Calculation Methods**\n",
    "    \n",
    "    'pi' : Percentile Interval (Efron 13.3)\n",
    "        The percentile interval method simply returns the 100*alphath bootstrap\n",
    "        sample's values for the statistic. This is an extremely simple method of \n",
    "        confidence interval calculation. However, it has several disadvantages \n",
    "        compared to the bias-corrected accelerated method.\n",
    "        \n",
    "        If you want to use more complex calculation methods, please, see\n",
    "        `scikits-bootstrap package \n",
    "        <https://github.com/cgevans/scikits-bootstrap>`_.\n",
    "    **References**\n",
    "    \n",
    "        Efron (1993): 'An Introduction to the Bootstrap', Chapman & Hall.\n",
    "    \"\"\"\n",
    "\n",
    "    def bootstrap_indexes(data, n_samples=10000):\n",
    "        \"\"\"\n",
    "    Given data points data, where axis 0 is considered to delineate points, return\n",
    "    an generator for sets of bootstrap indexes. This can be used as a list\n",
    "    of bootstrap indexes (with list(bootstrap_indexes(data))) as well.\n",
    "        \"\"\"\n",
    "        for _ in range(n_samples):\n",
    "            yield _randint(data.shape[0], size=(data.shape[0],))    \n",
    "    \n",
    "    alphas = np.array([alpha / 2,1 - alpha / 2])\n",
    "\n",
    "    data = np.array(data)\n",
    "    tdata = (data,)\n",
    "    \n",
    "    # We don't need to generate actual samples; that would take more memory.\n",
    "    # Instead, we can generate just the indexes, and then apply the statfun\n",
    "    # to those indexes.\n",
    "    bootindexes = bootstrap_indexes(tdata[0], n_samples)\n",
    "    stat = np.array([statfunction(*(x[indexes] for x in tdata)) for indexes in bootindexes])\n",
    "    stat.sort(axis=0)\n",
    "\n",
    "    # Percentile Interval Method\n",
    "    avals = alphas\n",
    "\n",
    "    nvals = np.round((n_samples - 1)*avals).astype('int')\n",
    "\n",
    "    if np.any(nvals == 0) or np.any(nvals == n_samples - 1):\n",
    "        _warnings.warn(\"Some values used extremal samples; results are probably unstable.\", InstabilityWarning)\n",
    "    elif np.any(nvals<10) or np.any(nvals>=n_samples-10):\n",
    "        _warnings.warn(\"Some values used top 10 low/high samples; results may be unstable.\", InstabilityWarning)\n",
    "\n",
    "    if nvals.ndim == 1:\n",
    "        # All nvals are the same. Simple broadcasting\n",
    "        return stat[nvals]\n",
    "    else:\n",
    "        # Nvals are different for each data point. Not simple broadcasting.\n",
    "        # Each set of nvals along axis 0 corresponds to the data at the same\n",
    "        # point in other axes.\n",
    "        return stat[(nvals, np.indices(nvals.shape)[1:].squeeze())]"
   ]
  },
  {
   "cell_type": "markdown",
   "metadata": {},
   "source": [
    "ci_bootstrap is the entry function of bootstrapping, who invoke the bootstrap_ci to do real work. "
   ]
  },
  {
   "cell_type": "code",
   "execution_count": 7,
   "metadata": {
    "collapsed": true
   },
   "outputs": [],
   "source": [
    "def ci_bootstrap(df, gevfit):\n",
    "    # Calculate confidence intervals using parametric bootstrap and the\n",
    "    # percentil interval method\n",
    "    # This is used to obtain confidence intervals for the estimators and\n",
    "    # the return values for several return values.    \n",
    "    # More info about bootstrapping can be found on:\n",
    "    #     - https://github.com/cgevans/scikits-bootstrap\n",
    "    #     - Efron: \"An Introduction to the Bootstrap\", Chapman & Hall (1993)\n",
    "    #     - https://en.wikipedia.org/wiki/Bootstrapping_%28statistics%29\n",
    "\n",
    "    # parametric bootstrap for return levels and parameters   \n",
    "\n",
    "    # The function to bootstrap     \n",
    "    def func(data):\n",
    "        sample = lmoments.randgev(len(df.index), gevfit)\n",
    "        samgevfit = lmoments.pelgev(lmoments.samlmu(sample))      \n",
    "                \n",
    "        T = np.arange(0.1, 999.1, 0.1) + 1\n",
    "        sT = lmoments.quagev(1.0-1./T, samgevfit)\n",
    "        res = samgevfit\n",
    "        res.extend(sT.tolist())\n",
    "        return tuple(res)\n",
    "\n",
    "    # the calculations itself\n",
    "    out = bootstrap_ci(df, statfunction = func, n_samples = 500)\n",
    "    ci_Td = out[0, 3:]\n",
    "    ci_Tu = out[1, 3:]\n",
    "    params_ci = OrderedDict()\n",
    "    params_ci['shape']    = (out[0,0], out[1,0])\n",
    "    params_ci['location'] = (out[0,1], out[1,1])\n",
    "    params_ci['scale']    = (out[0,2], out[1,3])\n",
    "    \n",
    "    return{'ci_Td':ci_Td, 'ci_Tu':ci_Tu, 'params_ci':params_ci}"
   ]
  },
  {
   "cell_type": "markdown",
   "metadata": {},
   "source": [
    "## 5. Get extreme precipitation according to some return years"
   ]
  },
  {
   "cell_type": "code",
   "execution_count": 8,
   "metadata": {
    "scrolled": true
   },
   "outputs": [
    {
     "data": {
      "text/plain": [
       "OrderedDict([('shape', (1.2342415170938525, 1.5011825992644816)),\n",
       "             ('location', (0.45818228211018025, 0.66680788425871662)),\n",
       "             ('scale', (-0.28169197632867771, 1.0137051600906695))])"
      ]
     },
     "execution_count": 8,
     "metadata": {},
     "output_type": "execute_result"
    }
   ],
   "source": [
    "# return years (1.1 to 1000)\n",
    "T  = np.arange(0.1, 999.1, 0.1) + 1\n",
    "sT = lmoments.quagev(1.0-1./T, gevfit)\n",
    "\n",
    "# prepare index for obs\n",
    "N    = np.r_[1:len(df.index)+1]*1.0 #must *1.0 to convert int to float\n",
    "Nmax = max(N)\n",
    "\n",
    "# get confidence intervals\n",
    "bootout   = ci_bootstrap(df, gevfit)\n",
    "ci_Td     = bootout[\"ci_Td\"]\n",
    "ci_Tu     = bootout[\"ci_Tu\"]\n",
    "params_ci = bootout[\"params_ci\"]\n",
    "\n",
    "params_ci"
   ]
  },
  {
   "cell_type": "code",
   "execution_count": 9,
   "metadata": {},
   "outputs": [
    {
     "data": {
      "text/plain": [
       "<matplotlib.collections.PolyCollection at 0xe4c7cc0>"
      ]
     },
     "execution_count": 9,
     "metadata": {},
     "output_type": "execute_result"
    },
    {
     "data": {
      "image/png": "[encoded data removed]",
      "text/plain": [
       "<matplotlib.figure.Figure at 0xadf7f60>"
      ]
     },
     "metadata": {},
     "output_type": "display_data"
    }
   ],
   "source": [
    "fig, ax = plt.subplots()\n",
    "\n",
    "plt.setp(ax.lines, linewidth = 2, color = 'magenta')\n",
    "\n",
    "ax.set_title(\"GEV Distribution\")\n",
    "ax.set_xlabel(\"Return Period (Year)\")\n",
    "ax.set_ylabel(\"Precipitation\")\n",
    "ax.semilogx(T, sT)\n",
    "ax.scatter(Nmax/N, sorted(df)[::-1], color = 'orangered')\n",
    "\n",
    "ax.semilogx(T, ci_Td, '--')\n",
    "ax.semilogx(T, ci_Tu, '--')\n",
    "ax.fill_between(T, ci_Td, ci_Tu, color = '0.75', alpha = 0.5)"
   ]
  }
 ],
 "metadata": {
  "anaconda-cloud": {},
  "kernelspec": {
   "display_name": "Python 3",
   "language": "python",
   "name": "python3"
  },
  "language_info": {
   "codemirror_mode": {
    "name": "ipython",
    "version": 3
   },
   "file_extension": ".py",
   "mimetype": "text/x-python",
   "name": "python",
   "nbconvert_exporter": "python",
   "pygments_lexer": "ipython3",
   "version": "3.6.3"
  }
 },
 "nbformat": 4,
 "nbformat_minor": 1
}
