{
 "cells": [
  {
   "cell_type": "markdown",
   "metadata": {},
   "source": [
    "### Extremal Types Theorem\n",
    "\n",
    "TODO\n",
    "\n",
    "**Theorem:** If there exist sequences of constants $\\{a_n > 0\\}$ and $\\{b_n\\}$ such that\n",
    "\n",
    "$$\n",
    "\\text{Pr}\\{\\left(M_n - b_n\\right) ~ / ~ a_n \\leq z\\} \\rightarrow G(z) \\quad \\text{as }n \\rightarrow \\infty,\n",
    "$$\n",
    "\n",
    "where $G$ is a non-degenerate distribution function, then $G$ belongs to one of the following families:\n",
    "\n",
    "$\\mathcal{I}$: $\\quad G(z) = \\text{exp}\\left\\{-\\text{exp}\\left[-\\left(\\frac{z - b}{a}\\right)\\right]\\right\\}$, $\\quad -\\infty \\leq z \\leq \\infty$;\n",
    "\n",
    "$\\mathcal{II}$: $\\quad G(z) = TODO$\n",
    "\n",
    "$\\mathcal{III}$: $\\quad G(z) = TODO$\n",
    "\n",
    "for parameters $a > 0$, $b$ and, in the case of families $\\mathcal{II}$ and $\\mathcal{III}$, $a > 0$.\n",
    "\n",
    "### The Generalized Extreme Value (GEV) Distribution\n",
    "\n",
    "TODO"
   ]
  },
  {
   "cell_type": "code",
   "execution_count": 1,
   "metadata": {
    "ExecuteTime": {
     "end_time": "2018-06-12T02:31:43.962192Z",
     "start_time": "2018-06-12T02:31:41.386279Z"
    }
   },
   "outputs": [],
   "source": [
    "import pandas as pd\n",
    "import numpy as np\n",
    "import scipy.stats as stats\n",
    "import sys\n",
    "import matplotlib.pyplot as plt\n",
    "%matplotlib inline"
   ]
  },
  {
   "cell_type": "code",
   "execution_count": null,
   "metadata": {},
   "outputs": [],
   "source": []
  }
 ],
 "metadata": {
  "kernelspec": {
   "display_name": "Python 3",
   "language": "python",
   "name": "python3"
  },
  "language_info": {
   "codemirror_mode": {
    "name": "ipython",
    "version": 3
   },
   "file_extension": ".py",
   "mimetype": "text/x-python",
   "name": "python",
   "nbconvert_exporter": "python",
   "pygments_lexer": "ipython3",
   "version": "3.6.3"
  }
 },
 "nbformat": 4,
 "nbformat_minor": 2
}
